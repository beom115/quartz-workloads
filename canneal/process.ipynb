{
 "cells": [
  {
   "cell_type": "code",
   "execution_count": 1,
   "metadata": {},
   "outputs": [],
   "source": [
    "import pandas as pd"
   ]
  },
  {
   "cell_type": "code",
   "execution_count": 4,
   "metadata": {},
   "outputs": [
    {
     "data": {
      "text/html": [
       "<div>\n",
       "<style scoped>\n",
       "    .dataframe tbody tr th:only-of-type {\n",
       "        vertical-align: middle;\n",
       "    }\n",
       "\n",
       "    .dataframe tbody tr th {\n",
       "        vertical-align: top;\n",
       "    }\n",
       "\n",
       "    .dataframe thead th {\n",
       "        text-align: right;\n",
       "    }\n",
       "</style>\n",
       "<table border=\"1\" class=\"dataframe\">\n",
       "  <thead>\n",
       "    <tr style=\"text-align: right;\">\n",
       "      <th></th>\n",
       "      <th>thread_id</th>\n",
       "      <th>execution_time</th>\n",
       "      <th>stall_cycles</th>\n",
       "      <th>nvm_accesses</th>\n",
       "      <th>latency_calculation_overhead_cycles</th>\n",
       "      <th>injected_delay_cycles</th>\n",
       "      <th>injected_delay_in_usec</th>\n",
       "    </tr>\n",
       "  </thead>\n",
       "  <tbody>\n",
       "    <tr>\n",
       "      <th>0</th>\n",
       "      <td>3158048</td>\n",
       "      <td>91830423</td>\n",
       "      <td>50115188002</td>\n",
       "      <td>270892908</td>\n",
       "      <td>19083</td>\n",
       "      <td>92092760936</td>\n",
       "      <td>36837104</td>\n",
       "    </tr>\n",
       "    <tr>\n",
       "      <th>1</th>\n",
       "      <td>3158135</td>\n",
       "      <td>90528731</td>\n",
       "      <td>49866026025</td>\n",
       "      <td>269546086</td>\n",
       "      <td>22870</td>\n",
       "      <td>91635530626</td>\n",
       "      <td>36654212</td>\n",
       "    </tr>\n",
       "    <tr>\n",
       "      <th>2</th>\n",
       "      <td>3158220</td>\n",
       "      <td>92595070</td>\n",
       "      <td>50730121548</td>\n",
       "      <td>202112038</td>\n",
       "      <td>99328</td>\n",
       "      <td>93223926340</td>\n",
       "      <td>27418801</td>\n",
       "    </tr>\n",
       "    <tr>\n",
       "      <th>3</th>\n",
       "      <td>3158305</td>\n",
       "      <td>96794331</td>\n",
       "      <td>53964384716</td>\n",
       "      <td>291699376</td>\n",
       "      <td>0</td>\n",
       "      <td>99167309834</td>\n",
       "      <td>39666923</td>\n",
       "    </tr>\n",
       "    <tr>\n",
       "      <th>4</th>\n",
       "      <td>3158391</td>\n",
       "      <td>90559871</td>\n",
       "      <td>49721014301</td>\n",
       "      <td>268762239</td>\n",
       "      <td>0</td>\n",
       "      <td>91369436996</td>\n",
       "      <td>36547774</td>\n",
       "    </tr>\n",
       "    <tr>\n",
       "      <th>5</th>\n",
       "      <td>3158478</td>\n",
       "      <td>92730261</td>\n",
       "      <td>50764168491</td>\n",
       "      <td>275892220</td>\n",
       "      <td>922740</td>\n",
       "      <td>93286253174</td>\n",
       "      <td>37329433</td>\n",
       "    </tr>\n",
       "    <tr>\n",
       "      <th>6</th>\n",
       "      <td>3158566</td>\n",
       "      <td>90607589</td>\n",
       "      <td>49626202580</td>\n",
       "      <td>268249743</td>\n",
       "      <td>70489</td>\n",
       "      <td>91195148702</td>\n",
       "      <td>36478059</td>\n",
       "    </tr>\n",
       "    <tr>\n",
       "      <th>7</th>\n",
       "      <td>3158652</td>\n",
       "      <td>91256582</td>\n",
       "      <td>49823702183</td>\n",
       "      <td>269317309</td>\n",
       "      <td>62318</td>\n",
       "      <td>91557901320</td>\n",
       "      <td>36623160</td>\n",
       "    </tr>\n",
       "    <tr>\n",
       "      <th>8</th>\n",
       "      <td>3158771</td>\n",
       "      <td>91201068</td>\n",
       "      <td>49687518303</td>\n",
       "      <td>268581180</td>\n",
       "      <td>10980</td>\n",
       "      <td>91307222219</td>\n",
       "      <td>36522888</td>\n",
       "    </tr>\n",
       "    <tr>\n",
       "      <th>9</th>\n",
       "      <td>3158858</td>\n",
       "      <td>90526794</td>\n",
       "      <td>49741944750</td>\n",
       "      <td>268875377</td>\n",
       "      <td>79888</td>\n",
       "      <td>91407127439</td>\n",
       "      <td>36562850</td>\n",
       "    </tr>\n",
       "  </tbody>\n",
       "</table>\n",
       "</div>"
      ],
      "text/plain": [
       "   thread_id  execution_time  stall_cycles  nvm_accesses  \\\n",
       "0    3158048        91830423   50115188002     270892908   \n",
       "1    3158135        90528731   49866026025     269546086   \n",
       "2    3158220        92595070   50730121548     202112038   \n",
       "3    3158305        96794331   53964384716     291699376   \n",
       "4    3158391        90559871   49721014301     268762239   \n",
       "5    3158478        92730261   50764168491     275892220   \n",
       "6    3158566        90607589   49626202580     268249743   \n",
       "7    3158652        91256582   49823702183     269317309   \n",
       "8    3158771        91201068   49687518303     268581180   \n",
       "9    3158858        90526794   49741944750     268875377   \n",
       "\n",
       "   latency_calculation_overhead_cycles  injected_delay_cycles  \\\n",
       "0                                19083            92092760936   \n",
       "1                                22870            91635530626   \n",
       "2                                99328            93223926340   \n",
       "3                                    0            99167309834   \n",
       "4                                    0            91369436996   \n",
       "5                               922740            93286253174   \n",
       "6                                70489            91195148702   \n",
       "7                                62318            91557901320   \n",
       "8                                10980            91307222219   \n",
       "9                                79888            91407127439   \n",
       "\n",
       "   injected_delay_in_usec  \n",
       "0                36837104  \n",
       "1                36654212  \n",
       "2                27418801  \n",
       "3                39666923  \n",
       "4                36547774  \n",
       "5                37329433  \n",
       "6                36478059  \n",
       "7                36623160  \n",
       "8                36522888  \n",
       "9                36562850  "
      ]
     },
     "execution_count": 4,
     "metadata": {},
     "output_type": "execute_result"
    }
   ],
   "source": [
    "df = pd.read_csv('parsed-result.csv', index_col=0)\n",
    "df"
   ]
  },
  {
   "cell_type": "code",
   "execution_count": 2,
   "metadata": {},
   "outputs": [],
   "source": [
    "df = pd.read_csv('parsed-result.csv', index_col=0)\n",
    "df = df[df['latency_calculation_overhead_cycles'] == 0]"
   ]
  },
  {
   "cell_type": "code",
   "execution_count": 5,
   "metadata": {},
   "outputs": [
    {
     "name": "stdout",
     "output_type": "stream",
     "text": [
      "                                Column          Mean    NSD (%)\n",
      "0                            thread_id  3.155720e+06   0.012299\n",
      "1                       execution_time  7.433892e+08   6.007666\n",
      "2                         stall_cycles  4.984618e+11   8.497428\n",
      "3                         nvm_accesses  2.562923e+09  17.024087\n",
      "4  latency_calculation_overhead_cycles  0.000000e+00        NaN\n",
      "5                injected_delay_cycles  9.160093e+11   8.498199\n",
      "6               injected_delay_in_usec  3.480375e+08  17.079494\n"
     ]
    },
    {
     "name": "stderr",
     "output_type": "stream",
     "text": [
      "/var/folders/vr/nktrh3g56ts4vqrpgnhr3p400000gn/T/ipykernel_76883/1523900701.py:9: RuntimeWarning: invalid value encountered in double_scalars\n",
      "  nsd_percent = (std_dev / mean_value) * 100\n"
     ]
    }
   ],
   "source": [
    "df = pd.read_csv('parsed-result.csv', index_col=0)\n",
    "df = df[df['latency_calculation_overhead_cycles'] == 0]\n",
    "\n",
    "# 각 컬럼별 평균 및 NSD 계산\n",
    "results = []\n",
    "for column in df.columns:\n",
    "    mean_value = df[column].mean()\n",
    "    std_dev = df[column].std()\n",
    "    nsd_percent = (std_dev / mean_value) * 100\n",
    "    results.append({'Column': column, 'Mean': mean_value, 'NSD (%)': nsd_percent})\n",
    "\n",
    "# 결과를 DataFrame으로 정리\n",
    "results_df = pd.DataFrame(results)\n",
    "print(results_df)"
   ]
  },
  {
   "cell_type": "code",
   "execution_count": 6,
   "metadata": {},
   "outputs": [
    {
     "name": "stdout",
     "output_type": "stream",
     "text": [
      "[3155719.6, 743389241.4, 498461839776.0, 2562923473.2, 0.0, 916009331696.8, 348037460.0]\n"
     ]
    }
   ],
   "source": [
    "print(list(results_df['Mean']))"
   ]
  },
  {
   "cell_type": "code",
   "execution_count": 8,
   "metadata": {},
   "outputs": [
    {
     "name": "stdout",
     "output_type": "stream",
     "text": [
      "                                Column          Mean   NSD (%)\n",
      "0                            thread_id  3.154426e+06  0.011337\n",
      "1                       execution_time  9.356429e+08  5.011768\n",
      "2                         stall_cycles  6.437491e+11  5.186863\n",
      "3                         nvm_accesses  3.482494e+09  5.231649\n",
      "4  latency_calculation_overhead_cycles  0.000000e+00       NaN\n",
      "5                injected_delay_cycles  1.182997e+12  5.187077\n",
      "6               injected_delay_in_usec  4.732267e+08  5.190098\n"
     ]
    },
    {
     "name": "stderr",
     "output_type": "stream",
     "text": [
      "/var/folders/vr/nktrh3g56ts4vqrpgnhr3p400000gn/T/ipykernel_76883/1830337473.py:9: RuntimeWarning: invalid value encountered in double_scalars\n",
      "  nsd_percent = (std_dev / mean_value) * 100\n"
     ]
    }
   ],
   "source": [
    "df = pd.read_csv('parsed-result-4kb.csv', index_col=0)\n",
    "df = df[df['latency_calculation_overhead_cycles'] == 0]\n",
    "\n",
    "# 각 컬럼별 평균 및 NSD 계산\n",
    "results = []\n",
    "for column in df.columns:\n",
    "    mean_value = df[column].mean()\n",
    "    std_dev = df[column].std()\n",
    "    nsd_percent = (std_dev / mean_value) * 100\n",
    "    results.append({'Column': column, 'Mean': mean_value, 'NSD (%)': nsd_percent})\n",
    "\n",
    "# 결과를 DataFrame으로 정리\n",
    "results_df = pd.DataFrame(results)\n",
    "print(results_df)"
   ]
  },
  {
   "cell_type": "code",
   "execution_count": 9,
   "metadata": {},
   "outputs": [
    {
     "name": "stdout",
     "output_type": "stream",
     "text": [
      "[3154425.5714285714, 935642860.8571428, 643749132108.1428, 3482494461.0, 0.0, 1182997337715.8572, 473226663.14285713]\n"
     ]
    }
   ],
   "source": [
    "print(list(results_df['Mean']))"
   ]
  },
  {
   "cell_type": "code",
   "execution_count": null,
   "metadata": {},
   "outputs": [],
   "source": []
  }
 ],
 "metadata": {
  "kernelspec": {
   "display_name": "Python 3",
   "language": "python",
   "name": "python3"
  },
  "language_info": {
   "codemirror_mode": {
    "name": "ipython",
    "version": 3
   },
   "file_extension": ".py",
   "mimetype": "text/x-python",
   "name": "python",
   "nbconvert_exporter": "python",
   "pygments_lexer": "ipython3",
   "version": "3.8.10"
  }
 },
 "nbformat": 4,
 "nbformat_minor": 2
}
