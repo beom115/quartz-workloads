{
 "cells": [
  {
   "cell_type": "code",
   "execution_count": 1,
   "metadata": {},
   "outputs": [],
   "source": [
    "import pandas as pd"
   ]
  },
  {
   "cell_type": "code",
   "execution_count": 2,
   "metadata": {},
   "outputs": [
    {
     "data": {
      "text/html": [
       "<div>\n",
       "<style scoped>\n",
       "    .dataframe tbody tr th:only-of-type {\n",
       "        vertical-align: middle;\n",
       "    }\n",
       "\n",
       "    .dataframe tbody tr th {\n",
       "        vertical-align: top;\n",
       "    }\n",
       "\n",
       "    .dataframe thead th {\n",
       "        text-align: right;\n",
       "    }\n",
       "</style>\n",
       "<table border=\"1\" class=\"dataframe\">\n",
       "  <thead>\n",
       "    <tr style=\"text-align: right;\">\n",
       "      <th></th>\n",
       "      <th>thread_id</th>\n",
       "      <th>execution_time</th>\n",
       "      <th>stall_cycles</th>\n",
       "      <th>nvm_accesses</th>\n",
       "      <th>latency_calculation_overhead_cycles</th>\n",
       "      <th>injected_delay_cycles</th>\n",
       "      <th>injected_delay_in_usec</th>\n",
       "    </tr>\n",
       "  </thead>\n",
       "  <tbody>\n",
       "    <tr>\n",
       "      <th>0</th>\n",
       "      <td>3152681</td>\n",
       "      <td>174485632</td>\n",
       "      <td>16212934717</td>\n",
       "      <td>88113775</td>\n",
       "      <td>0</td>\n",
       "      <td>29767086030</td>\n",
       "      <td>11911599</td>\n",
       "    </tr>\n",
       "    <tr>\n",
       "      <th>1</th>\n",
       "      <td>3152772</td>\n",
       "      <td>173840502</td>\n",
       "      <td>15800741632</td>\n",
       "      <td>85409414</td>\n",
       "      <td>0</td>\n",
       "      <td>29010927722</td>\n",
       "      <td>11604371</td>\n",
       "    </tr>\n",
       "    <tr>\n",
       "      <th>2</th>\n",
       "      <td>3152891</td>\n",
       "      <td>175367525</td>\n",
       "      <td>15798305085</td>\n",
       "      <td>85396243</td>\n",
       "      <td>0</td>\n",
       "      <td>29005284574</td>\n",
       "      <td>11602113</td>\n",
       "    </tr>\n",
       "  </tbody>\n",
       "</table>\n",
       "</div>"
      ],
      "text/plain": [
       "   thread_id  execution_time  stall_cycles  nvm_accesses  \\\n",
       "0    3152681       174485632   16212934717      88113775   \n",
       "1    3152772       173840502   15800741632      85409414   \n",
       "2    3152891       175367525   15798305085      85396243   \n",
       "\n",
       "   latency_calculation_overhead_cycles  injected_delay_cycles  \\\n",
       "0                                    0            29767086030   \n",
       "1                                    0            29010927722   \n",
       "2                                    0            29005284574   \n",
       "\n",
       "   injected_delay_in_usec  \n",
       "0                11911599  \n",
       "1                11604371  \n",
       "2                11602113  "
      ]
     },
     "execution_count": 2,
     "metadata": {},
     "output_type": "execute_result"
    }
   ],
   "source": [
    "df = pd.read_csv('parsed-result.csv', index_col=0)\n",
    "df"
   ]
  },
  {
   "cell_type": "code",
   "execution_count": 5,
   "metadata": {},
   "outputs": [
    {
     "name": "stdout",
     "output_type": "stream",
     "text": [
      "                                Column          Mean   NSD (%)\n",
      "0                            thread_id  3.152781e+06  0.003340\n",
      "1                       execution_time  1.745646e+08  0.439130\n",
      "2                         stall_cycles  1.593733e+10  1.497656\n",
      "3                         nvm_accesses  8.630648e+07  1.813513\n",
      "4  latency_calculation_overhead_cycles  0.000000e+00       NaN\n",
      "5                injected_delay_cycles  2.926110e+10  1.497573\n",
      "6               injected_delay_in_usec  1.170603e+07  1.520871\n"
     ]
    },
    {
     "name": "stderr",
     "output_type": "stream",
     "text": [
      "/var/folders/vr/nktrh3g56ts4vqrpgnhr3p400000gn/T/ipykernel_75200/1492965760.py:8: RuntimeWarning: invalid value encountered in double_scalars\n",
      "  nsd_percent = (std_dev / mean_value) * 100\n"
     ]
    }
   ],
   "source": [
    "df = pd.read_csv('parsed-result.csv', index_col=0)\n",
    "\n",
    "# 각 컬럼별 평균 및 NSD 계산\n",
    "results = []\n",
    "for column in df.columns:\n",
    "    mean_value = df[column].mean()\n",
    "    std_dev = df[column].std()\n",
    "    nsd_percent = (std_dev / mean_value) * 100\n",
    "    results.append({'Column': column, 'Mean': mean_value, 'NSD (%)': nsd_percent})\n",
    "\n",
    "# 결과를 DataFrame으로 정리\n",
    "results_df = pd.DataFrame(results)\n",
    "print(results_df)"
   ]
  },
  {
   "cell_type": "code",
   "execution_count": 7,
   "metadata": {},
   "outputs": [
    {
     "name": "stdout",
     "output_type": "stream",
     "text": [
      "[3152781.3333333335, 174564553.0, 15937327144.666666, 86306477.33333333, 0.0, 29261099442.0, 11706027.666666666]\n"
     ]
    }
   ],
   "source": [
    "print(list(results_df['Mean']))"
   ]
  },
  {
   "cell_type": "code",
   "execution_count": 8,
   "metadata": {},
   "outputs": [
    {
     "name": "stdout",
     "output_type": "stream",
     "text": [
      "                                Column          Mean   NSD (%)\n",
      "0                            thread_id  3.150285e+06  0.002793\n",
      "1                       execution_time  2.513801e+08  0.819443\n",
      "2                         stall_cycles  5.684251e+10  0.214973\n",
      "3                         nvm_accesses  3.072568e+08  0.214973\n",
      "4  latency_calculation_overhead_cycles  0.000000e+00       NaN\n",
      "5                injected_delay_cycles  1.044286e+11  0.214642\n",
      "6               injected_delay_in_usec  4.177143e+07  0.214643\n"
     ]
    },
    {
     "name": "stderr",
     "output_type": "stream",
     "text": [
      "/var/folders/vr/nktrh3g56ts4vqrpgnhr3p400000gn/T/ipykernel_75200/3909240025.py:8: RuntimeWarning: invalid value encountered in double_scalars\n",
      "  nsd_percent = (std_dev / mean_value) * 100\n"
     ]
    }
   ],
   "source": [
    "df = pd.read_csv('parsed-result-4kb.csv', index_col=0)\n",
    "\n",
    "# 각 컬럼별 평균 및 NSD 계산\n",
    "results = []\n",
    "for column in df.columns:\n",
    "    mean_value = df[column].mean()\n",
    "    std_dev = df[column].std()\n",
    "    nsd_percent = (std_dev / mean_value) * 100\n",
    "    results.append({'Column': column, 'Mean': mean_value, 'NSD (%)': nsd_percent})\n",
    "\n",
    "# 결과를 DataFrame으로 정리\n",
    "results_df = pd.DataFrame(results)\n",
    "print(results_df)"
   ]
  },
  {
   "cell_type": "code",
   "execution_count": 9,
   "metadata": {},
   "outputs": [
    {
     "name": "stdout",
     "output_type": "stream",
     "text": [
      "[3150284.6666666665, 251380126.33333334, 56842506239.666664, 307256789.6666667, 0.0, 104428574757.33333, 41771429.333333336]\n"
     ]
    }
   ],
   "source": [
    "print(list(results_df['Mean']))"
   ]
  },
  {
   "cell_type": "code",
   "execution_count": null,
   "metadata": {},
   "outputs": [],
   "source": []
  }
 ],
 "metadata": {
  "kernelspec": {
   "display_name": "Python 3",
   "language": "python",
   "name": "python3"
  },
  "language_info": {
   "codemirror_mode": {
    "name": "ipython",
    "version": 3
   },
   "file_extension": ".py",
   "mimetype": "text/x-python",
   "name": "python",
   "nbconvert_exporter": "python",
   "pygments_lexer": "ipython3",
   "version": "3.9.6"
  }
 },
 "nbformat": 4,
 "nbformat_minor": 2
}
