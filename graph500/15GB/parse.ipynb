{
 "cells": [
  {
   "cell_type": "code",
   "execution_count": 1,
   "metadata": {},
   "outputs": [],
   "source": [
    "import re\n",
    "\n",
    "# Parsing function\n",
    "def parse_to_list(data):\n",
    "    iterations = []\n",
    "    current_iteration = {}\n",
    "\n",
    "    for line in data.splitlines():\n",
    "        if line.startswith(\"== Iteration\"):\n",
    "            if current_iteration:\n",
    "                iterations.append(current_iteration)  # Save previous iteration\n",
    "            current_iteration = {}  # Start a new iteration\n",
    "        elif \"Thread id\" in line:\n",
    "            match = re.search(r\"\\[(\\d+)\\]\", line)\n",
    "            if match:\n",
    "                current_iteration['thread_id'] = int(match.group(1))\n",
    "        elif \":\" in line:\n",
    "            _, key, value = map(str.strip, line.split(\":\", 2))\n",
    "            key = key.replace(\" \", \"_\").lower()\n",
    "            try:\n",
    "                value = int(value.split()[0])  # Extract numeric value\n",
    "            except ValueError:\n",
    "                pass  # Keep as string if not a number\n",
    "            current_iteration[key] = value\n",
    "\n",
    "    if current_iteration:  # Add the last iteration\n",
    "        iterations.append(current_iteration)\n",
    "\n",
    "    return iterations"
   ]
  },
  {
   "cell_type": "code",
   "execution_count": 2,
   "metadata": {},
   "outputs": [
    {
     "name": "stdout",
     "output_type": "stream",
     "text": [
      "[{'execution_time': 174485632,\n",
      "  'injected_delay_cycles': 29767086030,\n",
      "  'injected_delay_in_usec': 11911599,\n",
      "  'latency_calculation_overhead_cycles': 0,\n",
      "  'nvm_accesses': 88113775,\n",
      "  'stall_cycles': 16212934717,\n",
      "  'thread_id': 3152681},\n",
      " {'execution_time': 173840502,\n",
      "  'injected_delay_cycles': 29010927722,\n",
      "  'injected_delay_in_usec': 11604371,\n",
      "  'latency_calculation_overhead_cycles': 0,\n",
      "  'nvm_accesses': 85409414,\n",
      "  'stall_cycles': 15800741632,\n",
      "  'thread_id': 3152772},\n",
      " {'execution_time': 175367525,\n",
      "  'injected_delay_cycles': 29005284574,\n",
      "  'injected_delay_in_usec': 11602113,\n",
      "  'latency_calculation_overhead_cycles': 0,\n",
      "  'nvm_accesses': 85396243,\n",
      "  'stall_cycles': 15798305085,\n",
      "  'thread_id': 3152891}]\n"
     ]
    }
   ],
   "source": [
    "# Input data\n",
    "with open('list-result.txt') as f:\n",
    "    data = f.read()\n",
    "\n",
    "# Parse the data\n",
    "parsed_list = parse_to_list(data)\n",
    "\n",
    "# Print the result\n",
    "import pprint\n",
    "pprint.pprint(parsed_list)\n",
    "\n",
    "import pandas as pd\n",
    "\n",
    "df = pd.DataFrame(parsed_list)\n",
    "df.to_csv('parsed-result.csv')"
   ]
  },
  {
   "cell_type": "code",
   "execution_count": 3,
   "metadata": {},
   "outputs": [],
   "source": [
    "# Input data\n",
    "with open('list-result-4kb.txt') as f:\n",
    "    data = f.read()\n",
    "\n",
    "# Parse the data\n",
    "parsed_list = parse_to_list(data)\n",
    "\n",
    "import pandas as pd\n",
    "\n",
    "df = pd.DataFrame(parsed_list)\n",
    "df.to_csv('parsed-result-4kb.csv')"
   ]
  },
  {
   "cell_type": "code",
   "execution_count": null,
   "metadata": {},
   "outputs": [],
   "source": []
  }
 ],
 "metadata": {
  "kernelspec": {
   "display_name": "Python 3",
   "language": "python",
   "name": "python3"
  },
  "language_info": {
   "codemirror_mode": {
    "name": "ipython",
    "version": 3
   },
   "file_extension": ".py",
   "mimetype": "text/x-python",
   "name": "python",
   "nbconvert_exporter": "python",
   "pygments_lexer": "ipython3",
   "version": "3.9.6"
  }
 },
 "nbformat": 4,
 "nbformat_minor": 2
}
