{
 "cells": [
  {
   "cell_type": "code",
   "execution_count": 6,
   "metadata": {},
   "outputs": [],
   "source": [
    "import pandas as pd"
   ]
  },
  {
   "cell_type": "code",
   "execution_count": 7,
   "metadata": {},
   "outputs": [
    {
     "data": {
      "text/html": [
       "<div>\n",
       "<style scoped>\n",
       "    .dataframe tbody tr th:only-of-type {\n",
       "        vertical-align: middle;\n",
       "    }\n",
       "\n",
       "    .dataframe tbody tr th {\n",
       "        vertical-align: top;\n",
       "    }\n",
       "\n",
       "    .dataframe thead th {\n",
       "        text-align: right;\n",
       "    }\n",
       "</style>\n",
       "<table border=\"1\" class=\"dataframe\">\n",
       "  <thead>\n",
       "    <tr style=\"text-align: right;\">\n",
       "      <th></th>\n",
       "      <th>thread_id</th>\n",
       "      <th>execution_time</th>\n",
       "      <th>stall_cycles</th>\n",
       "      <th>nvm_accesses</th>\n",
       "      <th>latency_calculation_overhead_cycles</th>\n",
       "      <th>injected_delay_cycles</th>\n",
       "      <th>injected_delay_in_usec</th>\n",
       "    </tr>\n",
       "  </thead>\n",
       "  <tbody>\n",
       "    <tr>\n",
       "      <th>0</th>\n",
       "      <td>3152424</td>\n",
       "      <td>42394670</td>\n",
       "      <td>3889102160</td>\n",
       "      <td>21022173</td>\n",
       "      <td>0</td>\n",
       "      <td>7138060523</td>\n",
       "      <td>2855224</td>\n",
       "    </tr>\n",
       "    <tr>\n",
       "      <th>1</th>\n",
       "      <td>3152510</td>\n",
       "      <td>41911822</td>\n",
       "      <td>3644590949</td>\n",
       "      <td>19700491</td>\n",
       "      <td>0</td>\n",
       "      <td>6690791070</td>\n",
       "      <td>2676316</td>\n",
       "    </tr>\n",
       "    <tr>\n",
       "      <th>2</th>\n",
       "      <td>3152595</td>\n",
       "      <td>41947426</td>\n",
       "      <td>3710271775</td>\n",
       "      <td>20055523</td>\n",
       "      <td>0</td>\n",
       "      <td>6812032399</td>\n",
       "      <td>2724812</td>\n",
       "    </tr>\n",
       "  </tbody>\n",
       "</table>\n",
       "</div>"
      ],
      "text/plain": [
       "   thread_id  execution_time  stall_cycles  nvm_accesses  \\\n",
       "0    3152424        42394670    3889102160      21022173   \n",
       "1    3152510        41911822    3644590949      19700491   \n",
       "2    3152595        41947426    3710271775      20055523   \n",
       "\n",
       "   latency_calculation_overhead_cycles  injected_delay_cycles  \\\n",
       "0                                    0             7138060523   \n",
       "1                                    0             6690791070   \n",
       "2                                    0             6812032399   \n",
       "\n",
       "   injected_delay_in_usec  \n",
       "0                 2855224  \n",
       "1                 2676316  \n",
       "2                 2724812  "
      ]
     },
     "execution_count": 7,
     "metadata": {},
     "output_type": "execute_result"
    }
   ],
   "source": [
    "df = pd.read_csv('parsed-result.csv', index_col=0)\n",
    "df"
   ]
  },
  {
   "cell_type": "code",
   "execution_count": 8,
   "metadata": {},
   "outputs": [
    {
     "name": "stdout",
     "output_type": "stream",
     "text": [
      "                                Column          Mean   NSD (%)\n",
      "0                            thread_id  3.152510e+06  0.002712\n",
      "1                       execution_time  4.208464e+07  0.639388\n",
      "2                         stall_cycles  3.747988e+09  3.376313\n",
      "3                         nvm_accesses  2.025940e+07  3.376312\n",
      "4  latency_calculation_overhead_cycles  0.000000e+00       NaN\n",
      "5                injected_delay_cycles  6.880295e+09  3.362014\n",
      "6               injected_delay_in_usec  2.752117e+06  3.362021\n"
     ]
    },
    {
     "name": "stderr",
     "output_type": "stream",
     "text": [
      "/var/folders/vr/nktrh3g56ts4vqrpgnhr3p400000gn/T/ipykernel_73941/1492965760.py:8: RuntimeWarning: invalid value encountered in double_scalars\n",
      "  nsd_percent = (std_dev / mean_value) * 100\n"
     ]
    }
   ],
   "source": [
    "df = pd.read_csv('parsed-result.csv', index_col=0)\n",
    "\n",
    "# 각 컬럼별 평균 및 NSD 계산\n",
    "results = []\n",
    "for column in df.columns:\n",
    "    mean_value = df[column].mean()\n",
    "    std_dev = df[column].std()\n",
    "    nsd_percent = (std_dev / mean_value) * 100\n",
    "    results.append({'Column': column, 'Mean': mean_value, 'NSD (%)': nsd_percent})\n",
    "\n",
    "# 결과를 DataFrame으로 정리\n",
    "results_df = pd.DataFrame(results)\n",
    "print(results_df)"
   ]
  },
  {
   "cell_type": "code",
   "execution_count": 9,
   "metadata": {},
   "outputs": [
    {
     "name": "stdout",
     "output_type": "stream",
     "text": [
      "                                Column          Mean    NSD (%)\n",
      "0                            thread_id  3.149990e+06   0.002746\n",
      "1                       execution_time  5.250460e+07   0.080547\n",
      "2                         stall_cycles  7.266226e+09   0.097785\n",
      "3                         nvm_accesses  3.590219e+07  16.709659\n",
      "4  latency_calculation_overhead_cycles  0.000000e+00        NaN\n",
      "5                injected_delay_cycles  1.334535e+10   0.098524\n",
      "6               injected_delay_in_usec  4.867391e+06  16.699325\n"
     ]
    },
    {
     "name": "stderr",
     "output_type": "stream",
     "text": [
      "/var/folders/vr/nktrh3g56ts4vqrpgnhr3p400000gn/T/ipykernel_73941/3909240025.py:8: RuntimeWarning: invalid value encountered in double_scalars\n",
      "  nsd_percent = (std_dev / mean_value) * 100\n"
     ]
    }
   ],
   "source": [
    "df = pd.read_csv('parsed-result-4kb.csv', index_col=0)\n",
    "\n",
    "# 각 컬럼별 평균 및 NSD 계산\n",
    "results = []\n",
    "for column in df.columns:\n",
    "    mean_value = df[column].mean()\n",
    "    std_dev = df[column].std()\n",
    "    nsd_percent = (std_dev / mean_value) * 100\n",
    "    results.append({'Column': column, 'Mean': mean_value, 'NSD (%)': nsd_percent})\n",
    "\n",
    "# 결과를 DataFrame으로 정리\n",
    "results_df = pd.DataFrame(results)\n",
    "print(results_df)"
   ]
  },
  {
   "cell_type": "code",
   "execution_count": 5,
   "metadata": {},
   "outputs": [
    {
     "data": {
      "text/html": [
       "<div>\n",
       "<style scoped>\n",
       "    .dataframe tbody tr th:only-of-type {\n",
       "        vertical-align: middle;\n",
       "    }\n",
       "\n",
       "    .dataframe tbody tr th {\n",
       "        vertical-align: top;\n",
       "    }\n",
       "\n",
       "    .dataframe thead th {\n",
       "        text-align: right;\n",
       "    }\n",
       "</style>\n",
       "<table border=\"1\" class=\"dataframe\">\n",
       "  <thead>\n",
       "    <tr style=\"text-align: right;\">\n",
       "      <th></th>\n",
       "      <th>thread_id</th>\n",
       "      <th>execution_time</th>\n",
       "      <th>stall_cycles</th>\n",
       "      <th>nvm_accesses</th>\n",
       "      <th>latency_calculation_overhead_cycles</th>\n",
       "      <th>injected_delay_cycles</th>\n",
       "      <th>injected_delay_in_usec</th>\n",
       "    </tr>\n",
       "  </thead>\n",
       "  <tbody>\n",
       "    <tr>\n",
       "      <th>0</th>\n",
       "      <td>3149904</td>\n",
       "      <td>52471291</td>\n",
       "      <td>7258923606</td>\n",
       "      <td>39237424</td>\n",
       "      <td>0</td>\n",
       "      <td>13331791859</td>\n",
       "      <td>5332716</td>\n",
       "    </tr>\n",
       "    <tr>\n",
       "      <th>1</th>\n",
       "      <td>3149989</td>\n",
       "      <td>52490338</td>\n",
       "      <td>7273116116</td>\n",
       "      <td>28976558</td>\n",
       "      <td>0</td>\n",
       "      <td>13358046278</td>\n",
       "      <td>3928837</td>\n",
       "    </tr>\n",
       "    <tr>\n",
       "      <th>2</th>\n",
       "      <td>3150077</td>\n",
       "      <td>52552183</td>\n",
       "      <td>7266638844</td>\n",
       "      <td>39492602</td>\n",
       "      <td>0</td>\n",
       "      <td>13346212343</td>\n",
       "      <td>5340621</td>\n",
       "    </tr>\n",
       "  </tbody>\n",
       "</table>\n",
       "</div>"
      ],
      "text/plain": [
       "   thread_id  execution_time  stall_cycles  nvm_accesses  \\\n",
       "0    3149904        52471291    7258923606      39237424   \n",
       "1    3149989        52490338    7273116116      28976558   \n",
       "2    3150077        52552183    7266638844      39492602   \n",
       "\n",
       "   latency_calculation_overhead_cycles  injected_delay_cycles  \\\n",
       "0                                    0            13331791859   \n",
       "1                                    0            13358046278   \n",
       "2                                    0            13346212343   \n",
       "\n",
       "   injected_delay_in_usec  \n",
       "0                 5332716  \n",
       "1                 3928837  \n",
       "2                 5340621  "
      ]
     },
     "execution_count": 5,
     "metadata": {},
     "output_type": "execute_result"
    }
   ],
   "source": [
    "df"
   ]
  },
  {
   "cell_type": "code",
   "execution_count": null,
   "metadata": {},
   "outputs": [],
   "source": []
  }
 ],
 "metadata": {
  "kernelspec": {
   "display_name": "Python 3",
   "language": "python",
   "name": "python3"
  },
  "language_info": {
   "codemirror_mode": {
    "name": "ipython",
    "version": 3
   },
   "file_extension": ".py",
   "mimetype": "text/x-python",
   "name": "python",
   "nbconvert_exporter": "python",
   "pygments_lexer": "ipython3",
   "version": "3.9.6"
  }
 },
 "nbformat": 4,
 "nbformat_minor": 2
}
