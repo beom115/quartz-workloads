{
 "cells": [
  {
   "cell_type": "code",
   "execution_count": 1,
   "metadata": {},
   "outputs": [],
   "source": [
    "import re\n",
    "\n",
    "# Parsing function\n",
    "def parse_to_list(data):\n",
    "    iterations = []\n",
    "    current_iteration = {}\n",
    "\n",
    "    for line in data.splitlines():\n",
    "        if line.startswith(\"== Iteration\"):\n",
    "            if current_iteration:\n",
    "                iterations.append(current_iteration)  # Save previous iteration\n",
    "            current_iteration = {}  # Start a new iteration\n",
    "        elif \"Thread id\" in line:\n",
    "            match = re.search(r\"\\[(\\d+)\\]\", line)\n",
    "            if match:\n",
    "                current_iteration['thread_id'] = int(match.group(1))\n",
    "        elif \":\" in line:\n",
    "            _, key, value = map(str.strip, line.split(\":\", 2))\n",
    "            key = key.replace(\" \", \"_\").lower()\n",
    "            try:\n",
    "                value = int(value.split()[0])  # Extract numeric value\n",
    "            except ValueError:\n",
    "                pass  # Keep as string if not a number\n",
    "            current_iteration[key] = value\n",
    "\n",
    "    if current_iteration:  # Add the last iteration\n",
    "        iterations.append(current_iteration)\n",
    "\n",
    "    return iterations"
   ]
  },
  {
   "cell_type": "code",
   "execution_count": 2,
   "metadata": {},
   "outputs": [
    {
     "name": "stdout",
     "output_type": "stream",
     "text": [
      "[{'execution_time': 42394670,\n",
      "  'injected_delay_cycles': 7138060523,\n",
      "  'injected_delay_in_usec': 2855224,\n",
      "  'latency_calculation_overhead_cycles': 0,\n",
      "  'nvm_accesses': 21022173,\n",
      "  'stall_cycles': 3889102160,\n",
      "  'thread_id': 3152424},\n",
      " {'execution_time': 41911822,\n",
      "  'injected_delay_cycles': 6690791070,\n",
      "  'injected_delay_in_usec': 2676316,\n",
      "  'latency_calculation_overhead_cycles': 0,\n",
      "  'nvm_accesses': 19700491,\n",
      "  'stall_cycles': 3644590949,\n",
      "  'thread_id': 3152510},\n",
      " {'execution_time': 41947426,\n",
      "  'injected_delay_cycles': 6812032399,\n",
      "  'injected_delay_in_usec': 2724812,\n",
      "  'latency_calculation_overhead_cycles': 0,\n",
      "  'nvm_accesses': 20055523,\n",
      "  'stall_cycles': 3710271775,\n",
      "  'thread_id': 3152595}]\n"
     ]
    }
   ],
   "source": [
    "# Input data\n",
    "with open('list-result.txt') as f:\n",
    "    data = f.read()\n",
    "\n",
    "# Parse the data\n",
    "parsed_list = parse_to_list(data)\n",
    "\n",
    "# Print the result\n",
    "import pprint\n",
    "pprint.pprint(parsed_list)\n",
    "\n",
    "import pandas as pd\n",
    "\n",
    "df = pd.DataFrame(parsed_list)\n",
    "df.to_csv('parsed-result.csv')"
   ]
  },
  {
   "cell_type": "code",
   "execution_count": 3,
   "metadata": {},
   "outputs": [],
   "source": [
    "# Input data\n",
    "with open('list-result-4kb.txt') as f:\n",
    "    data = f.read()\n",
    "\n",
    "# Parse the data\n",
    "parsed_list = parse_to_list(data)\n",
    "\n",
    "import pandas as pd\n",
    "\n",
    "df = pd.DataFrame(parsed_list)\n",
    "df.to_csv('parsed-result-4kb.csv')"
   ]
  },
  {
   "cell_type": "code",
   "execution_count": null,
   "metadata": {},
   "outputs": [],
   "source": []
  }
 ],
 "metadata": {
  "kernelspec": {
   "display_name": "Python 3",
   "language": "python",
   "name": "python3"
  },
  "language_info": {
   "codemirror_mode": {
    "name": "ipython",
    "version": 3
   },
   "file_extension": ".py",
   "mimetype": "text/x-python",
   "name": "python",
   "nbconvert_exporter": "python",
   "pygments_lexer": "ipython3",
   "version": "3.9.6"
  }
 },
 "nbformat": 4,
 "nbformat_minor": 2
}
