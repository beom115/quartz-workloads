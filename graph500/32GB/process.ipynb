{
 "cells": [
  {
   "cell_type": "code",
   "execution_count": 1,
   "metadata": {},
   "outputs": [],
   "source": [
    "import pandas as pd"
   ]
  },
  {
   "cell_type": "code",
   "execution_count": 2,
   "metadata": {},
   "outputs": [
    {
     "data": {
      "text/html": [
       "<div>\n",
       "<style scoped>\n",
       "    .dataframe tbody tr th:only-of-type {\n",
       "        vertical-align: middle;\n",
       "    }\n",
       "\n",
       "    .dataframe tbody tr th {\n",
       "        vertical-align: top;\n",
       "    }\n",
       "\n",
       "    .dataframe thead th {\n",
       "        text-align: right;\n",
       "    }\n",
       "</style>\n",
       "<table border=\"1\" class=\"dataframe\">\n",
       "  <thead>\n",
       "    <tr style=\"text-align: right;\">\n",
       "      <th></th>\n",
       "      <th>thread_id</th>\n",
       "      <th>execution_time</th>\n",
       "      <th>stall_cycles</th>\n",
       "      <th>nvm_accesses</th>\n",
       "      <th>latency_calculation_overhead_cycles</th>\n",
       "      <th>injected_delay_cycles</th>\n",
       "      <th>injected_delay_in_usec</th>\n",
       "    </tr>\n",
       "  </thead>\n",
       "  <tbody>\n",
       "    <tr>\n",
       "      <th>0</th>\n",
       "      <td>3152979</td>\n",
       "      <td>341692204</td>\n",
       "      <td>35337032491</td>\n",
       "      <td>191010986</td>\n",
       "      <td>0</td>\n",
       "      <td>64890059365</td>\n",
       "      <td>25956023</td>\n",
       "    </tr>\n",
       "    <tr>\n",
       "      <th>1</th>\n",
       "      <td>3153073</td>\n",
       "      <td>341787939</td>\n",
       "      <td>35307948057</td>\n",
       "      <td>190853773</td>\n",
       "      <td>0</td>\n",
       "      <td>64837311258</td>\n",
       "      <td>25934924</td>\n",
       "    </tr>\n",
       "    <tr>\n",
       "      <th>2</th>\n",
       "      <td>3153164</td>\n",
       "      <td>341748438</td>\n",
       "      <td>35666414291</td>\n",
       "      <td>192791428</td>\n",
       "      <td>0</td>\n",
       "      <td>65497663693</td>\n",
       "      <td>26199065</td>\n",
       "    </tr>\n",
       "  </tbody>\n",
       "</table>\n",
       "</div>"
      ],
      "text/plain": [
       "   thread_id  execution_time  stall_cycles  nvm_accesses  \\\n",
       "0    3152979       341692204   35337032491     191010986   \n",
       "1    3153073       341787939   35307948057     190853773   \n",
       "2    3153164       341748438   35666414291     192791428   \n",
       "\n",
       "   latency_calculation_overhead_cycles  injected_delay_cycles  \\\n",
       "0                                    0            64890059365   \n",
       "1                                    0            64837311258   \n",
       "2                                    0            65497663693   \n",
       "\n",
       "   injected_delay_in_usec  \n",
       "0                25956023  \n",
       "1                25934924  \n",
       "2                26199065  "
      ]
     },
     "execution_count": 2,
     "metadata": {},
     "output_type": "execute_result"
    }
   ],
   "source": [
    "df = pd.read_csv('parsed-result.csv', index_col=0)\n",
    "df"
   ]
  },
  {
   "cell_type": "code",
   "execution_count": 5,
   "metadata": {},
   "outputs": [
    {
     "name": "stdout",
     "output_type": "stream",
     "text": [
      "                                Column          Mean   NSD (%)\n",
      "0                            thread_id  3.153072e+06  0.002934\n",
      "1                       execution_time  3.417429e+08  0.014078\n",
      "2                         stall_cycles  3.543713e+10  0.561830\n",
      "3                         nvm_accesses  1.915521e+08  0.561830\n",
      "4  latency_calculation_overhead_cycles  0.000000e+00       NaN\n",
      "5                injected_delay_cycles  6.507501e+10  0.563929\n",
      "6               injected_delay_in_usec  2.603000e+07  0.563929\n"
     ]
    },
    {
     "name": "stderr",
     "output_type": "stream",
     "text": [
      "/var/folders/vr/nktrh3g56ts4vqrpgnhr3p400000gn/T/ipykernel_76069/1492965760.py:8: RuntimeWarning: invalid value encountered in double_scalars\n",
      "  nsd_percent = (std_dev / mean_value) * 100\n"
     ]
    }
   ],
   "source": [
    "df = pd.read_csv('parsed-result.csv', index_col=0)\n",
    "\n",
    "# 각 컬럼별 평균 및 NSD 계산\n",
    "results = []\n",
    "for column in df.columns:\n",
    "    mean_value = df[column].mean()\n",
    "    std_dev = df[column].std()\n",
    "    nsd_percent = (std_dev / mean_value) * 100\n",
    "    results.append({'Column': column, 'Mean': mean_value, 'NSD (%)': nsd_percent})\n",
    "\n",
    "# 결과를 DataFrame으로 정리\n",
    "results_df = pd.DataFrame(results)\n",
    "print(results_df)"
   ]
  },
  {
   "cell_type": "code",
   "execution_count": 6,
   "metadata": {},
   "outputs": [
    {
     "name": "stdout",
     "output_type": "stream",
     "text": [
      "[3153072.0, 341742860.3333333, 35437131613.0, 191552062.33333334, 0.0, 65075011438.666664, 26030004.0]\n"
     ]
    }
   ],
   "source": [
    "print(list(results_df['Mean']))"
   ]
  },
  {
   "cell_type": "code",
   "execution_count": 7,
   "metadata": {},
   "outputs": [
    {
     "name": "stdout",
     "output_type": "stream",
     "text": [
      "                                Column          Mean    NSD (%)\n",
      "0                            thread_id  3.150662e+06   0.005874\n",
      "1                       execution_time  5.134754e+08   0.021271\n",
      "2                         stall_cycles  1.376070e+11   0.334223\n",
      "3                         nvm_accesses  6.787671e+08  16.808139\n",
      "4  latency_calculation_overhead_cycles  0.000000e+00        NaN\n",
      "5                injected_delay_cycles  2.528249e+11   0.334104\n",
      "6               injected_delay_in_usec  9.222601e+07  16.929967\n"
     ]
    },
    {
     "name": "stderr",
     "output_type": "stream",
     "text": [
      "/var/folders/vr/nktrh3g56ts4vqrpgnhr3p400000gn/T/ipykernel_76069/3909240025.py:8: RuntimeWarning: invalid value encountered in double_scalars\n",
      "  nsd_percent = (std_dev / mean_value) * 100\n"
     ]
    }
   ],
   "source": [
    "df = pd.read_csv('parsed-result-4kb.csv', index_col=0)\n",
    "\n",
    "# 각 컬럼별 평균 및 NSD 계산\n",
    "results = []\n",
    "for column in df.columns:\n",
    "    mean_value = df[column].mean()\n",
    "    std_dev = df[column].std()\n",
    "    nsd_percent = (std_dev / mean_value) * 100\n",
    "    results.append({'Column': column, 'Mean': mean_value, 'NSD (%)': nsd_percent})\n",
    "\n",
    "# 결과를 DataFrame으로 정리\n",
    "results_df = pd.DataFrame(results)\n",
    "print(results_df)"
   ]
  },
  {
   "cell_type": "code",
   "execution_count": 8,
   "metadata": {},
   "outputs": [
    {
     "name": "stdout",
     "output_type": "stream",
     "text": [
      "[3150662.3333333335, 513475365.0, 137607028869.33334, 678767070.3333334, 0.0, 252824897986.33334, 92226006.33333333]\n"
     ]
    }
   ],
   "source": [
    "print(list(results_df['Mean']))"
   ]
  },
  {
   "cell_type": "code",
   "execution_count": null,
   "metadata": {},
   "outputs": [],
   "source": []
  }
 ],
 "metadata": {
  "kernelspec": {
   "display_name": "Python 3",
   "language": "python",
   "name": "python3"
  },
  "language_info": {
   "codemirror_mode": {
    "name": "ipython",
    "version": 3
   },
   "file_extension": ".py",
   "mimetype": "text/x-python",
   "name": "python",
   "nbconvert_exporter": "python",
   "pygments_lexer": "ipython3",
   "version": "3.9.6"
  }
 },
 "nbformat": 4,
 "nbformat_minor": 2
}
