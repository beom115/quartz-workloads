{
 "cells": [
  {
   "cell_type": "code",
   "execution_count": 1,
   "metadata": {},
   "outputs": [],
   "source": [
    "import pandas as pd"
   ]
  },
  {
   "cell_type": "code",
   "execution_count": 3,
   "metadata": {},
   "outputs": [],
   "source": [
    "df = pd.read_csv('parsed-result.csv', index_col=0)\n",
    "df = df[df['latency_calculation_overhead_cycles'] == 0]"
   ]
  },
  {
   "cell_type": "code",
   "execution_count": 5,
   "metadata": {},
   "outputs": [
    {
     "name": "stdout",
     "output_type": "stream",
     "text": [
      "                                Column          Mean    NSD (%)\n",
      "0                            thread_id  3.155720e+06   0.012299\n",
      "1                       execution_time  7.433892e+08   6.007666\n",
      "2                         stall_cycles  4.984618e+11   8.497428\n",
      "3                         nvm_accesses  2.562923e+09  17.024087\n",
      "4  latency_calculation_overhead_cycles  0.000000e+00        NaN\n",
      "5                injected_delay_cycles  9.160093e+11   8.498199\n",
      "6               injected_delay_in_usec  3.480375e+08  17.079494\n"
     ]
    },
    {
     "name": "stderr",
     "output_type": "stream",
     "text": [
      "/var/folders/vr/nktrh3g56ts4vqrpgnhr3p400000gn/T/ipykernel_76883/1523900701.py:9: RuntimeWarning: invalid value encountered in double_scalars\n",
      "  nsd_percent = (std_dev / mean_value) * 100\n"
     ]
    }
   ],
   "source": [
    "df = pd.read_csv('parsed-result.csv', index_col=0)\n",
    "df = df[df['latency_calculation_overhead_cycles'] == 0]\n",
    "\n",
    "# 각 컬럼별 평균 및 NSD 계산\n",
    "results = []\n",
    "for column in df.columns:\n",
    "    mean_value = df[column].mean()\n",
    "    std_dev = df[column].std()\n",
    "    nsd_percent = (std_dev / mean_value) * 100\n",
    "    results.append({'Column': column, 'Mean': mean_value, 'NSD (%)': nsd_percent})\n",
    "\n",
    "# 결과를 DataFrame으로 정리\n",
    "results_df = pd.DataFrame(results)\n",
    "print(results_df)"
   ]
  },
  {
   "cell_type": "code",
   "execution_count": 6,
   "metadata": {},
   "outputs": [
    {
     "name": "stdout",
     "output_type": "stream",
     "text": [
      "[3155719.6, 743389241.4, 498461839776.0, 2562923473.2, 0.0, 916009331696.8, 348037460.0]\n"
     ]
    }
   ],
   "source": [
    "print(list(results_df['Mean']))"
   ]
  },
  {
   "cell_type": "code",
   "execution_count": 8,
   "metadata": {},
   "outputs": [
    {
     "name": "stdout",
     "output_type": "stream",
     "text": [
      "                                Column          Mean   NSD (%)\n",
      "0                            thread_id  3.154426e+06  0.011337\n",
      "1                       execution_time  9.356429e+08  5.011768\n",
      "2                         stall_cycles  6.437491e+11  5.186863\n",
      "3                         nvm_accesses  3.482494e+09  5.231649\n",
      "4  latency_calculation_overhead_cycles  0.000000e+00       NaN\n",
      "5                injected_delay_cycles  1.182997e+12  5.187077\n",
      "6               injected_delay_in_usec  4.732267e+08  5.190098\n"
     ]
    },
    {
     "name": "stderr",
     "output_type": "stream",
     "text": [
      "/var/folders/vr/nktrh3g56ts4vqrpgnhr3p400000gn/T/ipykernel_76883/1830337473.py:9: RuntimeWarning: invalid value encountered in double_scalars\n",
      "  nsd_percent = (std_dev / mean_value) * 100\n"
     ]
    }
   ],
   "source": [
    "df = pd.read_csv('parsed-result-4kb.csv', index_col=0)\n",
    "df = df[df['latency_calculation_overhead_cycles'] == 0]\n",
    "\n",
    "# 각 컬럼별 평균 및 NSD 계산\n",
    "results = []\n",
    "for column in df.columns:\n",
    "    mean_value = df[column].mean()\n",
    "    std_dev = df[column].std()\n",
    "    nsd_percent = (std_dev / mean_value) * 100\n",
    "    results.append({'Column': column, 'Mean': mean_value, 'NSD (%)': nsd_percent})\n",
    "\n",
    "# 결과를 DataFrame으로 정리\n",
    "results_df = pd.DataFrame(results)\n",
    "print(results_df)"
   ]
  },
  {
   "cell_type": "code",
   "execution_count": 9,
   "metadata": {},
   "outputs": [
    {
     "name": "stdout",
     "output_type": "stream",
     "text": [
      "[3154425.5714285714, 935642860.8571428, 643749132108.1428, 3482494461.0, 0.0, 1182997337715.8572, 473226663.14285713]\n"
     ]
    }
   ],
   "source": [
    "print(list(results_df['Mean']))"
   ]
  },
  {
   "cell_type": "code",
   "execution_count": null,
   "metadata": {},
   "outputs": [],
   "source": []
  }
 ],
 "metadata": {
  "kernelspec": {
   "display_name": "Python 3",
   "language": "python",
   "name": "python3"
  },
  "language_info": {
   "codemirror_mode": {
    "name": "ipython",
    "version": 3
   },
   "file_extension": ".py",
   "mimetype": "text/x-python",
   "name": "python",
   "nbconvert_exporter": "python",
   "pygments_lexer": "ipython3",
   "version": "3.9.6"
  }
 },
 "nbformat": 4,
 "nbformat_minor": 2
}
