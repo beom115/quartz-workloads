{
 "cells": [
  {
   "cell_type": "code",
   "execution_count": 1,
   "metadata": {},
   "outputs": [],
   "source": [
    "import pandas as pd"
   ]
  },
  {
   "cell_type": "code",
   "execution_count": 3,
   "metadata": {},
   "outputs": [
    {
     "data": {
      "text/html": [
       "<div>\n",
       "<style scoped>\n",
       "    .dataframe tbody tr th:only-of-type {\n",
       "        vertical-align: middle;\n",
       "    }\n",
       "\n",
       "    .dataframe tbody tr th {\n",
       "        vertical-align: top;\n",
       "    }\n",
       "\n",
       "    .dataframe thead th {\n",
       "        text-align: right;\n",
       "    }\n",
       "</style>\n",
       "<table border=\"1\" class=\"dataframe\">\n",
       "  <thead>\n",
       "    <tr style=\"text-align: right;\">\n",
       "      <th></th>\n",
       "      <th>thread_id</th>\n",
       "      <th>execution_time</th>\n",
       "      <th>stall_cycles</th>\n",
       "      <th>nvm_accesses</th>\n",
       "      <th>latency_calculation_overhead_cycles</th>\n",
       "      <th>injected_delay_cycles</th>\n",
       "      <th>injected_delay_in_usec</th>\n",
       "    </tr>\n",
       "  </thead>\n",
       "  <tbody>\n",
       "    <tr>\n",
       "      <th>0</th>\n",
       "      <td>3155089</td>\n",
       "      <td>698726881</td>\n",
       "      <td>454325585578</td>\n",
       "      <td>2455813976</td>\n",
       "      <td>0</td>\n",
       "      <td>834894760718</td>\n",
       "      <td>333957904</td>\n",
       "    </tr>\n",
       "    <tr>\n",
       "      <th>1</th>\n",
       "      <td>3155182</td>\n",
       "      <td>723373128</td>\n",
       "      <td>475390060979</td>\n",
       "      <td>1893984306</td>\n",
       "      <td>218266</td>\n",
       "      <td>873608099158</td>\n",
       "      <td>256943558</td>\n",
       "    </tr>\n",
       "    <tr>\n",
       "      <th>2</th>\n",
       "      <td>3155308</td>\n",
       "      <td>817888188</td>\n",
       "      <td>508350307946</td>\n",
       "      <td>2747839502</td>\n",
       "      <td>45821</td>\n",
       "      <td>934156071070</td>\n",
       "      <td>373662428</td>\n",
       "    </tr>\n",
       "    <tr>\n",
       "      <th>3</th>\n",
       "      <td>3155408</td>\n",
       "      <td>799119164</td>\n",
       "      <td>540968636016</td>\n",
       "      <td>2924154789</td>\n",
       "      <td>25259</td>\n",
       "      <td>994122875697</td>\n",
       "      <td>397649150</td>\n",
       "    </tr>\n",
       "    <tr>\n",
       "      <th>4</th>\n",
       "      <td>3155535</td>\n",
       "      <td>790222227</td>\n",
       "      <td>495539012273</td>\n",
       "      <td>2678589255</td>\n",
       "      <td>59821</td>\n",
       "      <td>910610210281</td>\n",
       "      <td>364244084</td>\n",
       "    </tr>\n",
       "    <tr>\n",
       "      <th>5</th>\n",
       "      <td>3155631</td>\n",
       "      <td>814926848</td>\n",
       "      <td>565696418298</td>\n",
       "      <td>3057818477</td>\n",
       "      <td>0</td>\n",
       "      <td>1039576682144</td>\n",
       "      <td>415830672</td>\n",
       "    </tr>\n",
       "    <tr>\n",
       "      <th>6</th>\n",
       "      <td>3155722</td>\n",
       "      <td>787989051</td>\n",
       "      <td>522605290102</td>\n",
       "      <td>2824893460</td>\n",
       "      <td>116183</td>\n",
       "      <td>960374539769</td>\n",
       "      <td>384149815</td>\n",
       "    </tr>\n",
       "    <tr>\n",
       "      <th>7</th>\n",
       "      <td>3155855</td>\n",
       "      <td>748714366</td>\n",
       "      <td>504306882462</td>\n",
       "      <td>2725983148</td>\n",
       "      <td>0</td>\n",
       "      <td>926750137734</td>\n",
       "      <td>370700055</td>\n",
       "    </tr>\n",
       "    <tr>\n",
       "      <th>8</th>\n",
       "      <td>3155947</td>\n",
       "      <td>714658917</td>\n",
       "      <td>472704132614</td>\n",
       "      <td>1883283396</td>\n",
       "      <td>0</td>\n",
       "      <td>868672087261</td>\n",
       "      <td>255491790</td>\n",
       "    </tr>\n",
       "    <tr>\n",
       "      <th>9</th>\n",
       "      <td>3156076</td>\n",
       "      <td>739919195</td>\n",
       "      <td>495276179928</td>\n",
       "      <td>2691718369</td>\n",
       "      <td>0</td>\n",
       "      <td>910152990627</td>\n",
       "      <td>364206879</td>\n",
       "    </tr>\n",
       "  </tbody>\n",
       "</table>\n",
       "</div>"
      ],
      "text/plain": [
       "   thread_id  execution_time  stall_cycles  nvm_accesses  \\\n",
       "0    3155089       698726881  454325585578    2455813976   \n",
       "1    3155182       723373128  475390060979    1893984306   \n",
       "2    3155308       817888188  508350307946    2747839502   \n",
       "3    3155408       799119164  540968636016    2924154789   \n",
       "4    3155535       790222227  495539012273    2678589255   \n",
       "5    3155631       814926848  565696418298    3057818477   \n",
       "6    3155722       787989051  522605290102    2824893460   \n",
       "7    3155855       748714366  504306882462    2725983148   \n",
       "8    3155947       714658917  472704132614    1883283396   \n",
       "9    3156076       739919195  495276179928    2691718369   \n",
       "\n",
       "   latency_calculation_overhead_cycles  injected_delay_cycles  \\\n",
       "0                                    0           834894760718   \n",
       "1                               218266           873608099158   \n",
       "2                                45821           934156071070   \n",
       "3                                25259           994122875697   \n",
       "4                                59821           910610210281   \n",
       "5                                    0          1039576682144   \n",
       "6                               116183           960374539769   \n",
       "7                                    0           926750137734   \n",
       "8                                    0           868672087261   \n",
       "9                                    0           910152990627   \n",
       "\n",
       "   injected_delay_in_usec  \n",
       "0               333957904  \n",
       "1               256943558  \n",
       "2               373662428  \n",
       "3               397649150  \n",
       "4               364244084  \n",
       "5               415830672  \n",
       "6               384149815  \n",
       "7               370700055  \n",
       "8               255491790  \n",
       "9               364206879  "
      ]
     },
     "execution_count": 3,
     "metadata": {},
     "output_type": "execute_result"
    }
   ],
   "source": [
    "df = pd.read_csv('parsed-result.csv', index_col=0)\n",
    "df"
   ]
  },
  {
   "cell_type": "code",
   "execution_count": 2,
   "metadata": {},
   "outputs": [],
   "source": [
    "df = pd.read_csv('parsed-result.csv', index_col=0)\n",
    "df = df[df['latency_calculation_overhead_cycles'] == 0]"
   ]
  },
  {
   "cell_type": "code",
   "execution_count": 5,
   "metadata": {},
   "outputs": [
    {
     "name": "stdout",
     "output_type": "stream",
     "text": [
      "                                Column          Mean    NSD (%)\n",
      "0                            thread_id  3.155720e+06   0.012299\n",
      "1                       execution_time  7.433892e+08   6.007666\n",
      "2                         stall_cycles  4.984618e+11   8.497428\n",
      "3                         nvm_accesses  2.562923e+09  17.024087\n",
      "4  latency_calculation_overhead_cycles  0.000000e+00        NaN\n",
      "5                injected_delay_cycles  9.160093e+11   8.498199\n",
      "6               injected_delay_in_usec  3.480375e+08  17.079494\n"
     ]
    },
    {
     "name": "stderr",
     "output_type": "stream",
     "text": [
      "/var/folders/vr/nktrh3g56ts4vqrpgnhr3p400000gn/T/ipykernel_76883/1523900701.py:9: RuntimeWarning: invalid value encountered in double_scalars\n",
      "  nsd_percent = (std_dev / mean_value) * 100\n"
     ]
    }
   ],
   "source": [
    "df = pd.read_csv('parsed-result.csv', index_col=0)\n",
    "df = df[df['latency_calculation_overhead_cycles'] == 0]\n",
    "\n",
    "# 각 컬럼별 평균 및 NSD 계산\n",
    "results = []\n",
    "for column in df.columns:\n",
    "    mean_value = df[column].mean()\n",
    "    std_dev = df[column].std()\n",
    "    nsd_percent = (std_dev / mean_value) * 100\n",
    "    results.append({'Column': column, 'Mean': mean_value, 'NSD (%)': nsd_percent})\n",
    "\n",
    "# 결과를 DataFrame으로 정리\n",
    "results_df = pd.DataFrame(results)\n",
    "print(results_df)"
   ]
  },
  {
   "cell_type": "code",
   "execution_count": 6,
   "metadata": {},
   "outputs": [
    {
     "name": "stdout",
     "output_type": "stream",
     "text": [
      "[3155719.6, 743389241.4, 498461839776.0, 2562923473.2, 0.0, 916009331696.8, 348037460.0]\n"
     ]
    }
   ],
   "source": [
    "print(list(results_df['Mean']))"
   ]
  },
  {
   "cell_type": "code",
   "execution_count": 8,
   "metadata": {},
   "outputs": [
    {
     "name": "stdout",
     "output_type": "stream",
     "text": [
      "                                Column          Mean   NSD (%)\n",
      "0                            thread_id  3.154426e+06  0.011337\n",
      "1                       execution_time  9.356429e+08  5.011768\n",
      "2                         stall_cycles  6.437491e+11  5.186863\n",
      "3                         nvm_accesses  3.482494e+09  5.231649\n",
      "4  latency_calculation_overhead_cycles  0.000000e+00       NaN\n",
      "5                injected_delay_cycles  1.182997e+12  5.187077\n",
      "6               injected_delay_in_usec  4.732267e+08  5.190098\n"
     ]
    },
    {
     "name": "stderr",
     "output_type": "stream",
     "text": [
      "/var/folders/vr/nktrh3g56ts4vqrpgnhr3p400000gn/T/ipykernel_76883/1830337473.py:9: RuntimeWarning: invalid value encountered in double_scalars\n",
      "  nsd_percent = (std_dev / mean_value) * 100\n"
     ]
    }
   ],
   "source": [
    "df = pd.read_csv('parsed-result-4kb.csv', index_col=0)\n",
    "df = df[df['latency_calculation_overhead_cycles'] == 0]\n",
    "\n",
    "# 각 컬럼별 평균 및 NSD 계산\n",
    "results = []\n",
    "for column in df.columns:\n",
    "    mean_value = df[column].mean()\n",
    "    std_dev = df[column].std()\n",
    "    nsd_percent = (std_dev / mean_value) * 100\n",
    "    results.append({'Column': column, 'Mean': mean_value, 'NSD (%)': nsd_percent})\n",
    "\n",
    "# 결과를 DataFrame으로 정리\n",
    "results_df = pd.DataFrame(results)\n",
    "print(results_df)"
   ]
  },
  {
   "cell_type": "code",
   "execution_count": 9,
   "metadata": {},
   "outputs": [
    {
     "name": "stdout",
     "output_type": "stream",
     "text": [
      "[3154425.5714285714, 935642860.8571428, 643749132108.1428, 3482494461.0, 0.0, 1182997337715.8572, 473226663.14285713]\n"
     ]
    }
   ],
   "source": [
    "print(list(results_df['Mean']))"
   ]
  },
  {
   "cell_type": "code",
   "execution_count": null,
   "metadata": {},
   "outputs": [],
   "source": []
  }
 ],
 "metadata": {
  "kernelspec": {
   "display_name": "Python 3",
   "language": "python",
   "name": "python3"
  },
  "language_info": {
   "codemirror_mode": {
    "name": "ipython",
    "version": 3
   },
   "file_extension": ".py",
   "mimetype": "text/x-python",
   "name": "python",
   "nbconvert_exporter": "python",
   "pygments_lexer": "ipython3",
   "version": "3.8.10"
  }
 },
 "nbformat": 4,
 "nbformat_minor": 2
}
